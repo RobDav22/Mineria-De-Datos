{
  "nbformat": 4,
  "nbformat_minor": 0,
  "metadata": {
    "colab": {
      "provenance": []
    },
    "kernelspec": {
      "name": "python3",
      "display_name": "Python 3"
    },
    "language_info": {
      "name": "python"
    }
  },
  "cells": [
    {
      "cell_type": "markdown",
      "source": [
        "# **Práctica 2: Descriptive Statics**"
      ],
      "metadata": {
        "id": "1Ra3AHWPjdQE"
      }
    },
    {
      "cell_type": "markdown",
      "source": [
        "Cargamos el dataset limpio"
      ],
      "metadata": {
        "id": "lYNZi-kjjhcP"
      }
    },
    {
      "cell_type": "code",
      "execution_count": 2,
      "metadata": {
        "id": "DPMW7ZUWieXc"
      },
      "outputs": [],
      "source": [
        "import pandas as pd\n",
        "import numpy as np\n",
        "\n",
        "df = pd.read_csv(\"Video_Games_Sales_Cleaned.csv\")"
      ]
    },
    {
      "cell_type": "markdown",
      "source": [
        "Mostramos la información general"
      ],
      "metadata": {
        "id": "0PoFaCSMj7he"
      }
    },
    {
      "cell_type": "code",
      "source": [
        "print(df.info())"
      ],
      "metadata": {
        "id": "J8ZWhi6wi4uo",
        "colab": {
          "base_uri": "https://localhost:8080/"
        },
        "outputId": "d0e50682-3775-402f-e297-2824d05884ea"
      },
      "execution_count": 3,
      "outputs": [
        {
          "output_type": "stream",
          "name": "stdout",
          "text": [
            "<class 'pandas.core.frame.DataFrame'>\n",
            "RangeIndex: 16291 entries, 0 to 16290\n",
            "Data columns (total 11 columns):\n",
            " #   Column        Non-Null Count  Dtype  \n",
            "---  ------        --------------  -----  \n",
            " 0   Rank          16291 non-null  int64  \n",
            " 1   Name          16291 non-null  object \n",
            " 2   Platform      16291 non-null  object \n",
            " 3   Year          16291 non-null  int64  \n",
            " 4   Genre         16291 non-null  object \n",
            " 5   Publisher     16291 non-null  object \n",
            " 6   NA_Sales      16291 non-null  float64\n",
            " 7   EU_Sales      16291 non-null  float64\n",
            " 8   JP_Sales      16291 non-null  float64\n",
            " 9   Other_Sales   16291 non-null  float64\n",
            " 10  Global_Sales  16291 non-null  float64\n",
            "dtypes: float64(5), int64(2), object(4)\n",
            "memory usage: 1.4+ MB\n",
            "None\n"
          ]
        }
      ]
    },
    {
      "cell_type": "markdown",
      "source": [
        "Aseguramos que el dataset cargado es el limpio"
      ],
      "metadata": {
        "id": "d8qMdRWakHum"
      }
    },
    {
      "cell_type": "code",
      "source": [
        "print('filas duplicadas',df.duplicated().sum())\n",
        "print(df.isnull().sum())"
      ],
      "metadata": {
        "colab": {
          "base_uri": "https://localhost:8080/"
        },
        "id": "leKQjoU8kRDJ",
        "outputId": "0e72ebc9-f9f8-45c0-ad34-7afcb961dc16"
      },
      "execution_count": 4,
      "outputs": [
        {
          "output_type": "stream",
          "name": "stdout",
          "text": [
            "filas duplicadas 0\n",
            "Rank            0\n",
            "Name            0\n",
            "Platform        0\n",
            "Year            0\n",
            "Genre           0\n",
            "Publisher       0\n",
            "NA_Sales        0\n",
            "EU_Sales        0\n",
            "JP_Sales        0\n",
            "Other_Sales     0\n",
            "Global_Sales    0\n",
            "dtype: int64\n"
          ]
        }
      ]
    },
    {
      "cell_type": "markdown",
      "source": [
        "# Estadísticas descriptivas"
      ],
      "metadata": {
        "id": "ocpcVLi9kVtP"
      }
    },
    {
      "cell_type": "markdown",
      "source": [
        "Estadísticas de valores numéricos"
      ],
      "metadata": {
        "id": "9YCATJtulUfo"
      }
    },
    {
      "cell_type": "code",
      "source": [
        "print(df.describe())"
      ],
      "metadata": {
        "colab": {
          "base_uri": "https://localhost:8080/"
        },
        "id": "S3wHKv8ZldaG",
        "outputId": "fbd897ee-1d63-4c9d-e99b-86ec9e17fef0"
      },
      "execution_count": 5,
      "outputs": [
        {
          "output_type": "stream",
          "name": "stdout",
          "text": [
            "               Rank          Year      NA_Sales      EU_Sales      JP_Sales  \\\n",
            "count  16291.000000  16291.000000  16291.000000  16291.000000  16291.000000   \n",
            "mean    8290.190228   2006.405561      0.265647      0.147731      0.078833   \n",
            "std     4792.654450      5.832412      0.822432      0.509303      0.311879   \n",
            "min        1.000000   1980.000000      0.000000      0.000000      0.000000   \n",
            "25%     4132.500000   2003.000000      0.000000      0.000000      0.000000   \n",
            "50%     8292.000000   2007.000000      0.080000      0.020000      0.000000   \n",
            "75%    12439.500000   2010.000000      0.240000      0.110000      0.040000   \n",
            "max    16600.000000   2020.000000     41.490000     29.020000     10.220000   \n",
            "\n",
            "        Other_Sales  Global_Sales  \n",
            "count  16291.000000  16291.000000  \n",
            "mean       0.048426      0.540910  \n",
            "std        0.190083      1.567345  \n",
            "min        0.000000      0.010000  \n",
            "25%        0.000000      0.060000  \n",
            "50%        0.010000      0.170000  \n",
            "75%        0.040000      0.480000  \n",
            "max       10.570000     82.740000  \n"
          ]
        }
      ]
    },
    {
      "cell_type": "markdown",
      "source": [
        "Estadísticas de valores categóricos"
      ],
      "metadata": {
        "id": "mI3p8ktdlh3n"
      }
    },
    {
      "cell_type": "code",
      "source": [
        "print(df.describe(include=['object', 'category']))"
      ],
      "metadata": {
        "colab": {
          "base_uri": "https://localhost:8080/"
        },
        "id": "0m5aha9FlmSx",
        "outputId": "64bc1f7b-655e-4bb4-edd0-20be8500f629"
      },
      "execution_count": 6,
      "outputs": [
        {
          "output_type": "stream",
          "name": "stdout",
          "text": [
            "                               Name Platform   Genre        Publisher\n",
            "count                         16291    16291   16291            16291\n",
            "unique                        11325       31      12              576\n",
            "top     Need for Speed: Most Wanted       DS  Action  Electronic Arts\n",
            "freq                             12     2131    3251             1339\n"
          ]
        }
      ]
    },
    {
      "cell_type": "markdown",
      "source": [
        "# Agrupamos los datos por entidades y obtener estadísticas"
      ],
      "metadata": {
        "id": "nIapwRH8mBYo"
      }
    },
    {
      "cell_type": "markdown",
      "source": [
        "Ventas por género:"
      ],
      "metadata": {
        "id": "zhpxC4XnmOeB"
      }
    },
    {
      "cell_type": "code",
      "source": [
        "genre_stats = df.groupby(\"Genre\")[\"Global_Sales\"].agg([\"count\", \"sum\", \"mean\", \"max\"]).sort_values(\"sum\", ascending=False)\n",
        "print(genre_stats)"
      ],
      "metadata": {
        "colab": {
          "base_uri": "https://localhost:8080/"
        },
        "id": "G6hniMQGmFl-",
        "outputId": "994b48e1-e959-4fa9-b17e-1a048d902f17"
      },
      "execution_count": 7,
      "outputs": [
        {
          "output_type": "stream",
          "name": "stdout",
          "text": [
            "              count      sum      mean    max\n",
            "Genre                                        \n",
            "Action         3251  1722.84  0.529942  21.40\n",
            "Sports         2304  1309.24  0.568247  82.74\n",
            "Shooter        1282  1026.20  0.800468  28.31\n",
            "Role-Playing   1470   923.83  0.628456  31.37\n",
            "Platform        875   829.13  0.947577  40.24\n",
            "Misc           1686   789.87  0.468488  29.02\n",
            "Racing         1225   726.76  0.593273  35.82\n",
            "Fighting        836   444.05  0.531160  13.04\n",
            "Simulation      848   389.98  0.459882  24.76\n",
            "Puzzle          570   242.21  0.424930  30.26\n",
            "Adventure      1274   234.59  0.184137  11.18\n",
            "Strategy        670   173.27  0.258612   5.45\n"
          ]
        }
      ]
    },
    {
      "cell_type": "markdown",
      "source": [
        "Ventas por plataforma:"
      ],
      "metadata": {
        "id": "MKPX7FhRmSbs"
      }
    },
    {
      "cell_type": "code",
      "source": [
        "platform_stats = df.groupby(\"Platform\")[\"Global_Sales\"].agg([\"count\", \"sum\", \"mean\", \"max\"]).sort_values(\"sum\", ascending=False)\n",
        "print(platform_stats)"
      ],
      "metadata": {
        "colab": {
          "base_uri": "https://localhost:8080/"
        },
        "id": "ycgQG1JWmU-Z",
        "outputId": "edcad41c-8328-4837-f7e2-d4811c567b75"
      },
      "execution_count": 8,
      "outputs": [
        {
          "output_type": "stream",
          "name": "stdout",
          "text": [
            "          count      sum      mean    max\n",
            "Platform                                 \n",
            "PS2        2127  1233.46  0.579906  20.81\n",
            "X360       1234   969.60  0.785737  21.82\n",
            "PS3        1304   949.35  0.728029  21.40\n",
            "Wii        1290   909.81  0.705279  82.74\n",
            "DS         2131   818.91  0.384284  30.01\n",
            "PS         1189   727.39  0.611766  10.95\n",
            "GBA         786   305.62  0.388830  15.85\n",
            "PSP        1197   291.71  0.243701   7.72\n",
            "PS4         336   278.10  0.827679  14.24\n",
            "PC          938   254.70  0.271535   8.11\n",
            "GB           97   254.42  2.622887  31.37\n",
            "XB          803   252.09  0.313935   8.49\n",
            "NES          98   251.07  2.561939  40.24\n",
            "3DS         499   246.27  0.493527  14.35\n",
            "N64         316   218.21  0.690538  11.89\n",
            "SNES        239   200.05  0.837029  20.61\n",
            "GC          542   197.14  0.363727   7.07\n",
            "XOne        213   141.06  0.662254   7.30\n",
            "2600        116    86.57  0.746293   7.81\n",
            "WiiU        143    81.86  0.572448   6.96\n",
            "PSV         410    61.60  0.150244   2.25\n",
            "SAT         173    33.59  0.194162   1.93\n",
            "GEN          27    28.36  1.050370   6.03\n",
            "DC           52    15.97  0.307115   2.42\n",
            "SCD           6     1.87  0.311667   1.50\n",
            "NG           12     1.44  0.120000   0.25\n",
            "WS            6     1.42  0.236667   0.51\n",
            "TG16          2     0.16  0.080000   0.14\n",
            "3DO           3     0.10  0.033333   0.06\n",
            "GG            1     0.04  0.040000   0.04\n",
            "PCFX          1     0.03  0.030000   0.03\n"
          ]
        }
      ]
    },
    {
      "cell_type": "markdown",
      "source": [
        "Ventas por publicador"
      ],
      "metadata": {
        "id": "VRAqNWSLmubA"
      }
    },
    {
      "cell_type": "code",
      "source": [
        "publisher_stats = df.groupby(\"Publisher\")[\"Global_Sales\"].agg([\"count\", \"sum\", \"mean\", \"max\"]).sort_values(\"sum\", ascending=False).head(20)\n",
        "print(publisher_stats)"
      ],
      "metadata": {
        "colab": {
          "base_uri": "https://localhost:8080/"
        },
        "id": "VLC5bdTXmwWY",
        "outputId": "f97820f0-5169-4672-a525-3541d6d625b2"
      },
      "execution_count": 9,
      "outputs": [
        {
          "output_type": "stream",
          "name": "stdout",
          "text": [
            "                                        count      sum      mean    max\n",
            "Publisher                                                              \n",
            "Nintendo                                  696  1784.43  2.563836  82.74\n",
            "Electronic Arts                          1339  1093.39  0.816572   8.49\n",
            "Activision                                966   721.41  0.746801  14.76\n",
            "Sony Computer Entertainment               682   607.28  0.890440  14.98\n",
            "Ubisoft                                   918   473.54  0.515839  10.26\n",
            "Take-Two Interactive                      412   399.30  0.969175  21.40\n",
            "THQ                                       712   340.44  0.478146   3.58\n",
            "Konami Digital Entertainment              823   278.56  0.338469   6.05\n",
            "Sega                                      632   270.70  0.428323   8.06\n",
            "Namco Bandai Games                        928   253.65  0.273330   4.24\n",
            "Microsoft Game Studios                    189   245.79  1.300476  21.82\n",
            "Capcom                                    376   199.95  0.531782   6.30\n",
            "Atari                                     347   146.77  0.422968   7.81\n",
            "Square Enix                               231   144.73  0.626537   5.95\n",
            "Warner Bros. Interactive Entertainment    217   142.34  0.655945   5.53\n",
            "Disney Interactive Studios                214   118.76  0.554953   3.16\n",
            "Eidos Interactive                         196    96.75  0.493622   5.24\n",
            "LucasArts                                  89    84.95  0.954494   5.83\n",
            "Bethesda Softworks                         69    81.53  1.181594   8.84\n",
            "Midway Games                              196    69.29  0.353520   2.52\n"
          ]
        }
      ]
    },
    {
      "cell_type": "markdown",
      "source": [
        "Ventas por año de lanzamiento"
      ],
      "metadata": {
        "id": "50C_1UNOm0is"
      }
    },
    {
      "cell_type": "code",
      "source": [
        "yearly_stats = df.groupby(\"Year\")[\"Global_Sales\"].agg([\"count\", \"sum\", \"mean\", \"max\"]).sort_index()\n",
        "print(yearly_stats)"
      ],
      "metadata": {
        "colab": {
          "base_uri": "https://localhost:8080/"
        },
        "id": "EblHy-L4m21O",
        "outputId": "44d00852-539d-4728-b86f-c6ecdb8b83a4"
      },
      "execution_count": 11,
      "outputs": [
        {
          "output_type": "stream",
          "name": "stdout",
          "text": [
            "      count     sum      mean    max\n",
            "Year                                \n",
            "1980      9   11.38  1.264444   4.31\n",
            "1981     46   35.77  0.777609   4.50\n",
            "1982     36   28.86  0.801667   7.81\n",
            "1983     17   16.79  0.987647   3.20\n",
            "1984     14   50.36  3.597143  28.31\n",
            "1985     14   53.94  3.852857  40.24\n",
            "1986     21   37.07  1.765238   6.51\n",
            "1987     16   21.74  1.358750   4.38\n",
            "1988     15   47.22  3.148000  17.28\n",
            "1989     17   73.45  4.320588  30.26\n",
            "1990     16   49.39  3.086875  20.61\n",
            "1991     41   32.23  0.786098   4.61\n",
            "1992     43   76.16  1.771163  11.18\n",
            "1993     60   45.98  0.766333  10.55\n",
            "1994    121   79.17  0.654298   9.30\n",
            "1995    219   88.11  0.402329   5.15\n",
            "1996    263  199.15  0.757224  31.37\n",
            "1997    289  200.98  0.695433  10.95\n",
            "1998    379  256.47  0.676702  14.64\n",
            "1999    338  251.27  0.743402  23.10\n",
            "2000    349  201.56  0.577536   6.39\n",
            "2001    482  331.47  0.687697  14.98\n",
            "2002    829  395.52  0.477105  16.15\n",
            "2003    775  357.85  0.461742   7.20\n",
            "2004    744  414.01  0.556465  20.81\n",
            "2005    936  458.51  0.489861  24.76\n",
            "2006   1008  521.04  0.516905  82.74\n",
            "2007   1201  609.92  0.507843  22.72\n",
            "2008   1428  678.90  0.475420  35.82\n",
            "2009   1431  667.30  0.466317  33.00\n",
            "2010   1257  600.29  0.477558  21.82\n",
            "2011   1136  515.80  0.454049  14.76\n",
            "2012    655  363.49  0.554947  14.03\n",
            "2013    546  368.11  0.674194  21.40\n",
            "2014    580  337.03  0.581086  11.98\n",
            "2015    614  264.44  0.430684  14.24\n",
            "2016    342   70.90  0.207310   4.77\n",
            "2017      3    0.05  0.016667   0.03\n",
            "2020      1    0.29  0.290000   0.29\n"
          ]
        }
      ]
    }
  ]
}